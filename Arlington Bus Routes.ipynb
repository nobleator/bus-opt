{
 "cells": [
  {
   "cell_type": "markdown",
   "metadata": {},
   "source": [
    "# Analysis of Arlington County Bus Routes\n",
    "## Data sources\n",
    "<a href=\"https://api.census.gov/data/2010/sf1/?get=P0120001&for=block:*&in=state:51%20county:013\">2010 US Census</a>\n",
    "<a href=\"https://www2.census.gov/geo/tiger/TIGER2010/TABBLOCK/2010/\">TIGER/Line shapefiles</a>\n",
    "## Organize data\n",
    "We need to take the raw population data, which is provided on a US Census Block level, and map that to latitude and longitude. We can do this via TIGER/Line shapefiles. I have preloaded the data into 2 files, so no API request is required. We will save the original Census data, along with the bounding box for each block and the centroid (calculated from the bounding box)."
   ]
  },
  {
   "cell_type": "code",
   "execution_count": 5,
   "metadata": {},
   "outputs": [
    {
     "data": {
      "text/html": [
       "<div>\n",
       "<style scoped>\n",
       "    .dataframe tbody tr th:only-of-type {\n",
       "        vertical-align: middle;\n",
       "    }\n",
       "\n",
       "    .dataframe tbody tr th {\n",
       "        vertical-align: top;\n",
       "    }\n",
       "\n",
       "    .dataframe thead th {\n",
       "        text-align: right;\n",
       "    }\n",
       "</style>\n",
       "<table border=\"1\" class=\"dataframe\">\n",
       "  <thead>\n",
       "    <tr style=\"text-align: right;\">\n",
       "      <th></th>\n",
       "      <th>bbox_lat1</th>\n",
       "      <th>bbox_lat2</th>\n",
       "      <th>bbox_lon1</th>\n",
       "      <th>bbox_lon2</th>\n",
       "      <th>block</th>\n",
       "      <th>cent_lat</th>\n",
       "      <th>cent_lon</th>\n",
       "      <th>county</th>\n",
       "      <th>pop</th>\n",
       "      <th>state</th>\n",
       "      <th>tract</th>\n",
       "    </tr>\n",
       "  </thead>\n",
       "  <tbody>\n",
       "    <tr>\n",
       "      <th>0</th>\n",
       "      <td>38.842309</td>\n",
       "      <td>38.844156</td>\n",
       "      <td>-77.107485</td>\n",
       "      <td>-77.105971</td>\n",
       "      <td>1000</td>\n",
       "      <td>-77.106865</td>\n",
       "      <td>38.843071</td>\n",
       "      <td>013</td>\n",
       "      <td>184</td>\n",
       "      <td>51</td>\n",
       "      <td>100100</td>\n",
       "    </tr>\n",
       "    <tr>\n",
       "      <th>1</th>\n",
       "      <td>38.842555</td>\n",
       "      <td>38.843780</td>\n",
       "      <td>-77.106459</td>\n",
       "      <td>-77.104793</td>\n",
       "      <td>1001</td>\n",
       "      <td>-77.105757</td>\n",
       "      <td>38.843085</td>\n",
       "      <td>013</td>\n",
       "      <td>21</td>\n",
       "      <td>51</td>\n",
       "      <td>100100</td>\n",
       "    </tr>\n",
       "    <tr>\n",
       "      <th>2</th>\n",
       "      <td>38.897242</td>\n",
       "      <td>38.898117</td>\n",
       "      <td>-77.099421</td>\n",
       "      <td>-77.098295</td>\n",
       "      <td>1002</td>\n",
       "      <td>-77.098929</td>\n",
       "      <td>38.897666</td>\n",
       "      <td>013</td>\n",
       "      <td>40</td>\n",
       "      <td>51</td>\n",
       "      <td>100100</td>\n",
       "    </tr>\n",
       "    <tr>\n",
       "      <th>3</th>\n",
       "      <td>38.883396</td>\n",
       "      <td>38.886095</td>\n",
       "      <td>-77.104035</td>\n",
       "      <td>-77.099635</td>\n",
       "      <td>1003</td>\n",
       "      <td>-77.101934</td>\n",
       "      <td>38.884860</td>\n",
       "      <td>013</td>\n",
       "      <td>77</td>\n",
       "      <td>51</td>\n",
       "      <td>100100</td>\n",
       "    </tr>\n",
       "    <tr>\n",
       "      <th>4</th>\n",
       "      <td>38.844745</td>\n",
       "      <td>38.847054</td>\n",
       "      <td>-77.095230</td>\n",
       "      <td>-77.089518</td>\n",
       "      <td>1004</td>\n",
       "      <td>-77.092394</td>\n",
       "      <td>38.845805</td>\n",
       "      <td>013</td>\n",
       "      <td>33</td>\n",
       "      <td>51</td>\n",
       "      <td>100100</td>\n",
       "    </tr>\n",
       "  </tbody>\n",
       "</table>\n",
       "</div>"
      ],
      "text/plain": [
       "   bbox_lat1  bbox_lat2  bbox_lon1  bbox_lon2 block   cent_lat   cent_lon  \\\n",
       "0  38.842309  38.844156 -77.107485 -77.105971  1000 -77.106865  38.843071   \n",
       "1  38.842555  38.843780 -77.106459 -77.104793  1001 -77.105757  38.843085   \n",
       "2  38.897242  38.898117 -77.099421 -77.098295  1002 -77.098929  38.897666   \n",
       "3  38.883396  38.886095 -77.104035 -77.099635  1003 -77.101934  38.884860   \n",
       "4  38.844745  38.847054 -77.095230 -77.089518  1004 -77.092394  38.845805   \n",
       "\n",
       "  county  pop state   tract  \n",
       "0    013  184    51  100100  \n",
       "1    013   21    51  100100  \n",
       "2    013   40    51  100100  \n",
       "3    013   77    51  100100  \n",
       "4    013   33    51  100100  "
      ]
     },
     "execution_count": 5,
     "metadata": {},
     "output_type": "execute_result"
    }
   ],
   "source": [
    "import re\n",
    "import shapefile\n",
    "import numpy as np\n",
    "import pandas as pd\n",
    "\n",
    "def calc_centroid(arr):\n",
    "    length = arr.shape[0]\n",
    "    sum_x = np.sum(arr[:, 0])\n",
    "    sum_y = np.sum(arr[:, 1])\n",
    "    return sum_x/length, sum_y/length\n",
    "\n",
    "data = []\n",
    "with open('census_api_resp.json', 'r') as fid:\n",
    "    lines = fid.readlines()\n",
    "    for line in lines[1:]:\n",
    "        line = re.sub(r'\\[|\\]|\"','',line).rstrip(',\\n')\n",
    "        pop, state, county, tract, block = line.split(',')\n",
    "        data.append({'pop': pop,\n",
    "                    'state': state,\n",
    "                    'county': county,\n",
    "                    'tract': tract,\n",
    "                    'block': block})\n",
    "sf = shapefile.Reader('tl_2010_51013_tabblock10/tl_2010_51013_tabblock10.shp')\n",
    "shapes = sf.shapes()\n",
    "indx = 0\n",
    "for shape in shapes:\n",
    "    arr = np.array(shape.points)\n",
    "    lat, lon = calc_centroid(arr)\n",
    "    lon_1, lat_1, lon_2, lat_2 = shape.bbox\n",
    "    data[indx]['cent_lat'] = lat\n",
    "    data[indx]['cent_lon'] = lon\n",
    "    data[indx]['bbox_lat1'] = lat_1\n",
    "    data[indx]['bbox_lat2'] = lat_2\n",
    "    data[indx]['bbox_lon1'] = lon_1\n",
    "    data[indx]['bbox_lon2'] = lon_2\n",
    "    indx += 1\n",
    "df = pd.DataFrame(data)\n",
    "df.head(5)"
   ]
  },
  {
   "cell_type": "markdown",
   "metadata": {},
   "source": [
    "## Calculate clusters\n",
    "We are going to start testing clusters with the k-means algorithm. However, we want to include the population of each block as a weight for that point. In order to do this, we will generate a new, larger array of points, with 1 point for each person. For example, (38.84, -77.11, 184) would become 184 copies of (38.84, -77.11). However, we aren't going to do that exactly. Instead, we will take the bounding box for each block from before and randomly distribute points within that area."
   ]
  },
  {
   "cell_type": "code",
   "execution_count": 6,
   "metadata": {},
   "outputs": [
    {
     "data": {
      "text/plain": [
       "array([[ 38.84398591, -77.10611021],\n",
       "       [ 38.84249985, -77.10675945],\n",
       "       [ 38.84367419, -77.10684007],\n",
       "       ...,\n",
       "       [ 38.87711907, -77.07635143],\n",
       "       [ 38.87964591, -77.07403284],\n",
       "       [ 38.87980199, -77.07684514]])"
      ]
     },
     "execution_count": 6,
     "metadata": {},
     "output_type": "execute_result"
    }
   ],
   "source": [
    "import random\n",
    "\n",
    "big_data = []\n",
    "for indx, row in df.iterrows():\n",
    "    for _ in range(int(row['pop'])):\n",
    "        lat_1, lat_2, lon_1, lon_2  = row['bbox_lat1':'bbox_lon2']\n",
    "        lat = random.uniform(lat_1, lat_2)\n",
    "        lon = random.uniform(lon_1, lon_2)\n",
    "        big_data.append([lat, lon])\n",
    "big_arr = np.array(big_data)\n",
    "big_arr"
   ]
  },
  {
   "cell_type": "markdown",
   "metadata": {},
   "source": [
    "## K-means clustering\n",
    "Now that we have an array of points, we can perform k-means clustering to find the best locations for our bus stops. `num_stops` is the number of bus stops we are charting."
   ]
  },
  {
   "cell_type": "code",
   "execution_count": 9,
   "metadata": {},
   "outputs": [
    {
     "data": {
      "image/png": "[encoded data removed]",
      "text/plain": [
       "<matplotlib.figure.Figure at 0x1a1842ccf8>"
      ]
     },
     "metadata": {},
     "output_type": "display_data"
    }
   ],
   "source": [
    "from sklearn.cluster import KMeans\n",
    "import matplotlib.pyplot as plt\n",
    "\n",
    "num_stops = 20\n",
    "km = KMeans(n_clusters=num_stops, random_state=0).fit(big_arr)\n",
    "cl_cent = km.cluster_centers_\n",
    "plt.figure()\n",
    "plt.scatter(big_arr[:,0], big_arr[:,1], s=0.25, c='blue')\n",
    "plt.scatter(cl_cent[:,0], cl_cent[:,1], s=2, c='red')\n",
    "plt.show()"
   ]
  },
  {
   "cell_type": "code",
   "execution_count": null,
   "metadata": {},
   "outputs": [],
   "source": []
  }
 ],
 "metadata": {
  "kernelspec": {
   "display_name": "Python 3",
   "language": "python",
   "name": "python3"
  },
  "language_info": {
   "codemirror_mode": {
    "name": "ipython",
    "version": 3
   },
   "file_extension": ".py",
   "mimetype": "text/x-python",
   "name": "python",
   "nbconvert_exporter": "python",
   "pygments_lexer": "ipython3",
   "version": "3.6.4"
  }
 },
 "nbformat": 4,
 "nbformat_minor": 2
}
